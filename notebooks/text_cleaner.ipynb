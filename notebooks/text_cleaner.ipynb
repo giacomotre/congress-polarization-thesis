{
 "cells": [
  {
   "cell_type": "code",
   "execution_count": 2,
   "id": "5b701503",
   "metadata": {},
   "outputs": [],
   "source": [
    "import pandas as pd\n",
    "import numpy as np\n",
    "from pathlib import Path\n",
    "from tqdm import tqdm # Import tqdm\n",
    "from text_cleaning import clean_texts_for_tfidf_batch"
   ]
  },
  {
   "cell_type": "markdown",
   "id": "67fd4d67",
   "metadata": {},
   "source": [
    "# Text cleaner"
   ]
  },
  {
   "cell_type": "code",
   "execution_count": null,
   "id": "60268d08",
   "metadata": {},
   "outputs": [],
   "source": [
    "# Text cleaner\n",
    "for i in tqdm(range(76, 112), desc=\"Processing Congresses\"):\n",
    "    print(f\"\\n--Processing Congress {i} --\") # Added newline for better readability with tqdm\n",
    "    year_str = f\"{i:03}\"\n",
    "    base_dir = Path(\"../data/merged\")\n",
    "    house_file = base_dir / f\"house_db/house_merged_{year_str}.csv\"\n",
    "\n",
    "    cleaned_dir = Path(\"../data/processed\")\n",
    "    cleaned_dir.mkdir(parents=True, exist_ok=True)\n",
    "\n",
    "    if not house_file.exists():\n",
    "        print(f\"File not found, skipping: {house_file}\")\n",
    "        continue\n",
    "\n",
    "    try:\n",
    "        df = pd.read_csv(house_file)\n",
    "    except Exception as e:\n",
    "        print(f\"Error reading {house_file}: {e}. Skipping.\")\n",
    "        continue\n",
    "\n",
    "    if \"speech\" in df.columns:\n",
    "        print(f\"Cleaning speeches for Congress {year_str}...\")\n",
    "        speeches_to_clean = df[\"speech\"].fillna(\"\").astype(str).tolist()\n",
    "\n",
    "        if not speeches_to_clean:\n",
    "            print(f\"No speeches to clean in Congress {year_str} after filtering NaNs. Skipping cleaning.\")\n",
    "            continue\n",
    "\n",
    "        # Use the batch cleaning function\n",
    "        # If clean_texts_for_tfidf_batch has its own tqdm, it will be a nested bar\n",
    "        cleaned_speeches_list = clean_texts_for_tfidf_batch(speeches_to_clean)\n",
    "        df[\"cleaned_speech\"] = cleaned_speeches_list\n",
    "\n",
    "        output_cleaned = cleaned_dir / f\"house_cleaned_{year_str}.csv\"\n",
    "\n",
    "        # Define columns to keep *after* 'cleaned_speech' is created\n",
    "        columns_to_keep = [\"speech_id\", 'speakerid', 'party', 'cleaned_speech']\n",
    "        # Ensure only existing columns are selected\n",
    "        columns_to_keep = [col for col in columns_to_keep if col in df.columns]\n",
    "\n",
    "        if 'cleaned_speech' in df.columns and 'cleaned_speech' in columns_to_keep:\n",
    "            df_to_save = df[columns_to_keep].copy()\n",
    "            df_to_save.rename(columns={'cleaned_speech': 'speech'}, inplace=True) # Rename for consistency\n",
    "\n",
    "            try:\n",
    "                df_to_save.to_csv(output_cleaned, index=False)\n",
    "                print(f\"Saved cleaned data for Congress {year_str} to {output_cleaned}\")\n",
    "            except Exception as e:\n",
    "                print(f\"Error saving cleaned data for Congress {year_str} to {output_cleaned}: {e}\")\n",
    "        elif 'cleaned_speech' not in df.columns:\n",
    "            print(f\"Column 'cleaned_speech' not generated for {year_str}. Skipping save.\")\n",
    "        else:\n",
    "            print(f\"Column 'cleaned_speech' was generated but not selected in columns_to_keep for {year_str}. Skipping save.\")\n",
    "    else:\n",
    "        print(f\"'speech' column not found in {house_file}. Skipping cleaning.\")\n",
    "\n",
    "print(\"\\nAll Congresses processed.\")"
   ]
  },
  {
   "cell_type": "markdown",
   "id": "7c9f2619",
   "metadata": {},
   "source": [
    "## Test"
   ]
  },
  {
   "cell_type": "code",
   "execution_count": null,
   "id": "aef10c7f",
   "metadata": {},
   "outputs": [],
   "source": [
    "#test if the cleaned text is the same of the merged\n",
    "for i in range(76, 112):\n",
    "    \n",
    "    \"------ Loading files -------\"\n",
    "    \n",
    "    print(f'── Processing Congress {i} ──')\n",
    "    year_str = f\"{i:03}\"\n",
    "    base_dir = Path(\"../data/merged\")\n",
    "    house_file = base_dir / f\"house_db/house_merged_{year_str}.csv\"\n",
    "    \n",
    "    base_dir_processed = Path(\"../data/processed\")\n",
    "    house_file_processed = base_dir_processed / f\"house_db/house_cleaned_{year_str}.csv\"\n",
    "    \n",
    "    df = pd.read_csv(house_file)\n",
    "    df_processed = pd.read_csv(house_file_processed)\n",
    "    \n",
    "    matches = set(df[\"speech_id\"]) == set(df_processed[\"speech_id\"])\n",
    "\n",
    "    print(\"The db are equal\", matches)"
   ]
  },
  {
   "cell_type": "code",
   "execution_count": 1,
   "id": "c6f427b6",
   "metadata": {},
   "outputs": [],
   "source": [
    "import re\n",
    "import string\n",
    "from typing import List, Set\n",
    "\n",
    "# NLTK imports\n",
    "import nltk\n",
    "from nltk.tokenize import word_tokenize\n",
    "# Ensure NLTK resources are available.\n",
    "# It's good practice to handle potential Lookuprrors if these haven't been downloaded.\n",
    "try:\n",
    "    STOPWORDS_CORPUS = nltk.corpus.stopwords.words('english')\n",
    "except LookupError:\n",
    "    nltk.download('stopwords')\n",
    "    STOPWORDS_CORPUS = nltk.corpus.stopwords.words('english')\n",
    "\n",
    "try:\n",
    "    nltk.data.find('tokenizers/punkt')\n",
    "except LookupError:\n",
    "    nltk.download('punkt')\n",
    "\n",
    "# SpaCy import\n",
    "import spacy"
   ]
  },
  {
   "cell_type": "code",
   "execution_count": 2,
   "id": "caa715b6",
   "metadata": {},
   "outputs": [
    {
     "name": "stdout",
     "output_type": "stream",
     "text": [
      "representative\n",
      "act\n",
      "trod\n"
     ]
    }
   ],
   "source": [
    "# import spacy\n",
    "NLP = spacy.load(\"en_core_web_sm\", disable=[\"parser\", \"ner\"])\n",
    "print(NLP(\"representatives\")[0].lemma_)\n",
    "print(NLP(\"acting\")[0].lemma_)\n",
    "print(NLP(\"trod\")[0].lemma_)"
   ]
  }
 ],
 "metadata": {
  "kernelspec": {
   "display_name": "nlp_polarization",
   "language": "python",
   "name": "python3"
  },
  "language_info": {
   "codemirror_mode": {
    "name": "ipython",
    "version": 3
   },
   "file_extension": ".py",
   "mimetype": "text/x-python",
   "name": "python",
   "nbconvert_exporter": "python",
   "pygments_lexer": "ipython3",
   "version": "3.11.11"
  }
 },
 "nbformat": 4,
 "nbformat_minor": 5
}
