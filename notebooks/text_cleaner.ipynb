{
 "cells": [
  {
   "cell_type": "code",
   "execution_count": 2,
   "id": "5b701503",
   "metadata": {},
   "outputs": [],
   "source": [
    "import pandas as pd\n",
    "import numpy as np\n",
    "from pathlib import Path\n",
    "from tqdm import tqdm # Import tqdm\n",
    "from text_cleaning import clean_texts_for_tfidf_batch"
   ]
  },
  {
   "cell_type": "markdown",
   "id": "67fd4d67",
   "metadata": {},
   "source": [
    "# Text cleaner"
   ]
  },
  {
   "cell_type": "markdown",
   "id": "7c9f2619",
   "metadata": {},
   "source": [
    "## Test"
   ]
  },
  {
   "cell_type": "code",
   "execution_count": null,
   "id": "aef10c7f",
   "metadata": {},
   "outputs": [],
   "source": [
    "#test if the cleaned text is the same of the merged\n",
    "for i in range(76, 112):\n",
    "    \n",
    "    \"------ Loading files -------\"\n",
    "    \n",
    "    print(f'── Processing Congress {i} ──')\n",
    "    year_str = f\"{i:03}\"\n",
    "    base_dir = Path(\"../data/merged\")\n",
    "    house_file = base_dir / f\"house_db/house_merged_{year_str}.csv\"\n",
    "    \n",
    "    base_dir_processed = Path(\"../data/processed\")\n",
    "    house_file_processed = base_dir_processed / f\"house_db/house_cleaned_{year_str}.csv\"\n",
    "    \n",
    "    df = pd.read_csv(house_file)\n",
    "    df_processed = pd.read_csv(house_file_processed)\n",
    "    \n",
    "    matches = set(df[\"speech_id\"]) == set(df_processed[\"speech_id\"])\n",
    "\n",
    "    print(\"The db are equal\", matches)"
   ]
  }
 ],
 "metadata": {
  "kernelspec": {
   "display_name": "nlp_polarization",
   "language": "python",
   "name": "python3"
  },
  "language_info": {
   "codemirror_mode": {
    "name": "ipython",
    "version": 3
   },
   "file_extension": ".py",
   "mimetype": "text/x-python",
   "name": "python",
   "nbconvert_exporter": "python",
   "pygments_lexer": "ipython3",
   "version": "3.11.11"
  }
 },
 "nbformat": 4,
 "nbformat_minor": 5
}
