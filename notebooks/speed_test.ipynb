{
 "cells": [
  {
   "cell_type": "code",
   "execution_count": null,
   "id": "93bcfaa7",
   "metadata": {},
   "outputs": [],
   "source": [
    "import time\n",
    "import spacy\n",
    "\n",
    "# Load models\n",
    "print(\"Loading en_core_web_lg (CPU)...\")\n",
    "nlp_lg = spacy.load(\"en_core_web_lg\")\n",
    "\n",
    "print(\"Loading en_core_web_trf (GPU)...\")\n",
    "spacy.require_gpu()\n",
    "nlp_trf = spacy.load(\"en_core_web_trf\")\n",
    "\n",
    "# Create sample texts\n",
    "text = \"Apple is looking at buying U.K. startup for $1 billion.\" * 10  # repeat for length\n",
    "texts = [text for _ in range(100)]  # batch of 100\n",
    "\n",
    "def benchmark(nlp, texts, model_name):\n",
    "    print(f\"\\nRunning benchmark for {model_name}...\")\n",
    "    start = time.time()\n",
    "    docs = list(nlp.pipe(texts, batch_size=16))\n",
    "    end = time.time()\n",
    "    print(f\"{model_name} took {end - start:.2f} seconds for {len(texts)} documents.\")\n",
    "\n",
    "# Benchmark both models\n",
    "benchmark(nlp_lg, texts, \"en_core_web_lg (CPU)\")\n",
    "benchmark(nlp_trf, texts, \"en_core_web_trf (GPU)\")\n"
   ]
  }
 ],
 "metadata": {
  "language_info": {
   "name": "python"
  }
 },
 "nbformat": 4,
 "nbformat_minor": 5
}
