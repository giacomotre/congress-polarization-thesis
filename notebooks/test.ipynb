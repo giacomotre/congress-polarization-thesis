{
 "cells": [
  {
   "cell_type": "code",
   "execution_count": 1,
   "id": "5b701503",
   "metadata": {},
   "outputs": [],
   "source": [
    "import pandas as pd\n",
    "import numpy as np\n",
    "from pathlib import Path"
   ]
  },
  {
   "cell_type": "code",
   "execution_count": 5,
   "id": "070dbd35",
   "metadata": {},
   "outputs": [
    {
     "name": "stderr",
     "output_type": "stream",
     "text": [
      "<>:1: SyntaxWarning: invalid escape sequence '\\d'\n",
      "<>:1: SyntaxWarning: invalid escape sequence '\\d'\n",
      "C:\\Users\\giaco\\AppData\\Local\\Temp\\ipykernel_23372\\647328463.py:1: SyntaxWarning: invalid escape sequence '\\d'\n",
      "  df = pd.read_csv(\"..\\data\\merged\\house_db\\house_merged_076.csv\")\n"
     ]
    },
    {
     "name": "stdout",
     "output_type": "stream",
     "text": [
      "   speech_id                                             speech  speakerid  \\\n",
      "0  760000032  Mr. Speaker. by direction and authority of the...   76093910   \n",
      "1  760000035  My colleagues. it is seldom one finds consolat...   76099380   \n",
      "2  760000063  Mr. Speaker. the resolution provides changes i...   76093680   \n",
      "3  760000072  Yes. Mr. Speaker. I would like to ask the gent...   76086850   \n",
      "4  760000075  I appreciate the gentlemans remarks. as .well ...   76093680   \n",
      "\n",
      "   lastname firstname chamber party  year  char_count  word_count  \n",
      "0  WOODRUFF       ROY       H     R  1939         342          51  \n",
      "1    MARTIN    JOSEPH       H     R  1939        1616         276  \n",
      "2    SABATH    ADOLPH       H     D  1939         337          60  \n",
      "3     MAPES      CARL       H     R  1939         626         113  \n",
      "4    SABATH    ADOLPH       H     D  1939         300          49  \n"
     ]
    }
   ],
   "source": [
    "df = pd.read_csv(\"..\\data\\merged\\house_db\\house_merged_076.csv\")\n",
    "print(df.head())"
   ]
  },
  {
   "cell_type": "code",
   "execution_count": 3,
   "id": "dac9ff6b",
   "metadata": {},
   "outputs": [
    {
     "name": "stdout",
     "output_type": "stream",
     "text": [
      "── Processing Congress 75 ──\n"
     ]
    },
    {
     "ename": "NameError",
     "evalue": "name 'df' is not defined",
     "output_type": "error",
     "traceback": [
      "\u001b[1;31m---------------------------------------------------------------------------\u001b[0m",
      "\u001b[1;31mNameError\u001b[0m                                 Traceback (most recent call last)",
      "Cell \u001b[1;32mIn[3], line 9\u001b[0m\n\u001b[0;32m      7\u001b[0m base_dir \u001b[38;5;241m=\u001b[39m Path(\u001b[38;5;124m\"\u001b[39m\u001b[38;5;124m../data/merged\u001b[39m\u001b[38;5;124m\"\u001b[39m)\n\u001b[0;32m      8\u001b[0m house_file \u001b[38;5;241m=\u001b[39m base_dir \u001b[38;5;241m/\u001b[39m \u001b[38;5;124mf\u001b[39m\u001b[38;5;124m\"\u001b[39m\u001b[38;5;124mhouse_db/house_merged_\u001b[39m\u001b[38;5;132;01m{\u001b[39;00myear_str\u001b[38;5;132;01m}\u001b[39;00m\u001b[38;5;124m.csv\u001b[39m\u001b[38;5;124m\"\u001b[39m\n\u001b[1;32m----> 9\u001b[0m \u001b[38;5;28mprint\u001b[39m((df[\u001b[38;5;124m\"\u001b[39m\u001b[38;5;124mparty\u001b[39m\u001b[38;5;124m\"\u001b[39m]\u001b[38;5;241m.\u001b[39munique()))\n",
      "\u001b[1;31mNameError\u001b[0m: name 'df' is not defined"
     ]
    }
   ],
   "source": [
    "for i in range(75, 76):\n",
    "    \n",
    "    \"------ Loading files -------\"\n",
    "    \n",
    "    print(f'── Processing Congress {i} ──')\n",
    "    year_str = f\"{i:03}\"\n",
    "    base_dir = Path(\"../data/merged\")\n",
    "    house_file = base_dir / f\"house_db/house_merged_{year_str}.csv\"\n",
    "    print((df[\"party\"].unique()))"
   ]
  },
  {
   "cell_type": "code",
   "execution_count": 10,
   "id": "aef10c7f",
   "metadata": {},
   "outputs": [
    {
     "name": "stdout",
     "output_type": "stream",
     "text": [
      "── Processing Congress 76 ──\n",
      "The db are equal True\n",
      "── Processing Congress 77 ──\n",
      "The db are equal True\n",
      "── Processing Congress 78 ──\n",
      "The db are equal True\n",
      "── Processing Congress 79 ──\n",
      "The db are equal True\n",
      "── Processing Congress 80 ──\n",
      "The db are equal True\n",
      "── Processing Congress 81 ──\n",
      "The db are equal True\n",
      "── Processing Congress 82 ──\n",
      "The db are equal True\n",
      "── Processing Congress 83 ──\n",
      "The db are equal True\n",
      "── Processing Congress 84 ──\n",
      "The db are equal True\n",
      "── Processing Congress 85 ──\n",
      "The db are equal True\n",
      "── Processing Congress 86 ──\n",
      "The db are equal True\n",
      "── Processing Congress 87 ──\n",
      "The db are equal True\n",
      "── Processing Congress 88 ──\n",
      "The db are equal True\n",
      "── Processing Congress 89 ──\n",
      "The db are equal True\n",
      "── Processing Congress 90 ──\n",
      "The db are equal True\n",
      "── Processing Congress 91 ──\n",
      "The db are equal True\n",
      "── Processing Congress 92 ──\n",
      "The db are equal True\n",
      "── Processing Congress 93 ──\n",
      "The db are equal True\n",
      "── Processing Congress 94 ──\n",
      "The db are equal True\n",
      "── Processing Congress 95 ──\n",
      "The db are equal True\n",
      "── Processing Congress 96 ──\n",
      "The db are equal True\n",
      "── Processing Congress 97 ──\n",
      "The db are equal True\n",
      "── Processing Congress 98 ──\n",
      "The db are equal True\n",
      "── Processing Congress 99 ──\n",
      "The db are equal True\n",
      "── Processing Congress 100 ──\n",
      "The db are equal True\n",
      "── Processing Congress 101 ──\n",
      "The db are equal True\n",
      "── Processing Congress 102 ──\n",
      "The db are equal True\n",
      "── Processing Congress 103 ──\n",
      "The db are equal True\n",
      "── Processing Congress 104 ──\n",
      "The db are equal True\n",
      "── Processing Congress 105 ──\n",
      "The db are equal True\n",
      "── Processing Congress 106 ──\n",
      "The db are equal True\n",
      "── Processing Congress 107 ──\n",
      "The db are equal True\n",
      "── Processing Congress 108 ──\n",
      "The db are equal True\n",
      "── Processing Congress 109 ──\n",
      "The db are equal True\n",
      "── Processing Congress 110 ──\n",
      "The db are equal True\n",
      "── Processing Congress 111 ──\n",
      "The db are equal True\n"
     ]
    }
   ],
   "source": [
    "for i in range(76, 112):\n",
    "    \n",
    "    \"------ Loading files -------\"\n",
    "    \n",
    "    print(f'── Processing Congress {i} ──')\n",
    "    year_str = f\"{i:03}\"\n",
    "    base_dir = Path(\"../data/merged\")\n",
    "    house_file = base_dir / f\"house_db/house_merged_{year_str}.csv\"\n",
    "    \n",
    "    base_dir_processed = Path(\"../data/processed\")\n",
    "    house_file_processed = base_dir_processed / f\"house_db/house_cleaned_{year_str}.csv\"\n",
    "    \n",
    "    df = pd.read_csv(house_file)\n",
    "    df_processed = pd.read_csv(house_file_processed)\n",
    "    \n",
    "    \n",
    "    \n",
    "    matches = set(df[\"speech_id\"]) == set(df_processed[\"speech_id\"])\n",
    "\n",
    "    print(\"The db are equal\", matches)"
   ]
  }
 ],
 "metadata": {
  "kernelspec": {
   "display_name": "base",
   "language": "python",
   "name": "python3"
  },
  "language_info": {
   "codemirror_mode": {
    "name": "ipython",
    "version": 3
   },
   "file_extension": ".py",
   "mimetype": "text/x-python",
   "name": "python",
   "nbconvert_exporter": "python",
   "pygments_lexer": "ipython3",
   "version": "3.12.7"
  }
 },
 "nbformat": 4,
 "nbformat_minor": 5
}
