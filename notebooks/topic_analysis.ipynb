{
 "cells": [
  {
   "cell_type": "code",
   "execution_count": null,
   "id": "714c4521",
   "metadata": {},
   "outputs": [],
   "source": [
    "import pandas as pd\n",
    "import json\n",
    "import os"
   ]
  },
  {
   "cell_type": "code",
   "execution_count": null,
   "id": "ccd41fe6",
   "metadata": {},
   "outputs": [],
   "source": [
    "# Define the path to your exported data\n",
    "data_dir = \"../topics\"\n",
    "\n",
    "# Load the main dataframe\n",
    "topics_per_party_df = pd.read_csv(os.path.join(data_dir, \"topics_per_party_analysis.csv\"), index_col=0)\n",
    "\n",
    "# Load the topic-party to speech_id mapping\n",
    "with open(os.path.join(data_dir, \"topic_party_to_speech_id_mapping.json\"), 'r') as f:\n",
    "    topic_party_mapping_raw = json.load(f)\n",
    "\n",
    "# Convert back to the original format\n",
    "topic_party_to_speech_id = {}\n",
    "for key, speech_ids in topic_party_mapping_raw.items():\n",
    "    # Parse the key \"topic_X_party_Y\"\n",
    "    parts = key.split('_')\n",
    "    topic = int(parts[1])\n",
    "    party = parts[3]\n",
    "    topic_party_to_speech_id[(topic, party)] = speech_ids\n",
    "\n",
    "# Load other mappings\n",
    "with open(os.path.join(data_dir, \"topic_to_speech_id_mapping.json\"), 'r') as f:\n",
    "    topic_to_speech_id = {int(k): v for k, v in json.load(f).items()}\n",
    "\n",
    "with open(os.path.join(data_dir, \"speech_id_to_party_mapping.json\"), 'r') as f:\n",
    "    speech_id_to_party = json.load(f)\n",
    "\n",
    "with open(os.path.join(data_dir, \"analysis_metadata.json\"), 'r') as f:\n",
    "    metadata = json.load(f)\n",
    "\n",
    "# Helper functions\n",
    "def get_speech_ids_by_topic(topic_num):\n",
    "    \"\"\"Get all speech_ids for a given topic\"\"\"\n",
    "    return topic_to_speech_id.get(topic_num, [])\n",
    "\n",
    "def get_speech_ids_by_topic_and_party(topic_num, party):\n",
    "    \"\"\"Get speech_ids for a specific topic and party combination\"\"\"\n",
    "    return topic_party_to_speech_id.get((topic_num, party), [])\n",
    "\n",
    "def get_speech_ids_by_party_in_topic(topic_num):\n",
    "    \"\"\"Get speech_ids organized by party for a given topic\"\"\"\n",
    "    result = {}\n",
    "    all_speech_ids = topic_to_speech_id.get(topic_num, [])\n",
    "    \n",
    "    for speech_id_val in all_speech_ids:\n",
    "        if speech_id_val in speech_id_to_party:\n",
    "            party = speech_id_to_party[speech_id_val]\n",
    "            if party not in result:\n",
    "                result[party] = []\n",
    "            result[party].append(speech_id_val)\n",
    "    \n",
    "    return result\n",
    "\n",
    "print(\"Data loaded successfully!\")\n",
    "print(f\"Topics per party dataframe shape: {topics_per_party_df.shape}\")\n",
    "print(f\"Total topic-party combinations: {len(topic_party_to_speech_id)}\")\n",
    "print(f\"Total topics: {len(topic_to_speech_id)}\")\n",
    "print(f\"Analysis covers Congress {metadata['analysis_info']['congress_range']}\")"
   ]
  }
 ],
 "metadata": {
  "language_info": {
   "name": "python"
  }
 },
 "nbformat": 4,
 "nbformat_minor": 5
}
